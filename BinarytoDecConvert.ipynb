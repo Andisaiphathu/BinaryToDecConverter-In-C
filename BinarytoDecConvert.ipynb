{
 "cells": [
  {
   "cell_type": "markdown",
   "metadata": {},
   "source": [
    "     1 #include <iostream>\n",
    "     2  #include <cmath>\n",
    "     3  using namespace std; \n",
    "     4  \n",
    "     5  int main(int argc, char **argv) {\n",
    "     6      char choice;\n",
    "     7  \n",
    "     8      do {\n",
    "     9          long int bin; \n",
    "    10  \n",
    "    11          cout << \"Enter Binary Number: \";\n",
    "    12          cin >> bin; \n",
    "    13  \n",
    "    14          int dec = 0; \n",
    "    15          int i = 0;   \n",
    "    16          int rem;     \n",
    "    17          while (bin != 0) { \n",
    "    18              rem = bin % 10;                     \n",
    "    19              bin /= 10;                          \n",
    "    20              dec += rem * pow(2, i);             \n",
    "    21              i++;                                \n",
    "    22          }                                       \n",
    "    23  \n",
    "    24          cout << \"Decimal equivalent: \" << dec << endl; \n",
    "    25  \n",
    "    26          cout << \"Do you want to convert another binary number? (Y/N): \";\n",
    "    27          cin >> choice;\n",
    "    28      } while (choice == 'Y' || choice == 'y');\n",
    "    29  \n",
    "    30      cout << \"Exiting the program. Goodbye!\" << endl;\n",
    "    31  \n",
    "    32      return 0; \n",
    "    33"
   ],
   "id": "42a14256-91c8-446e-92a7-ab6bf11055d3"
  }
 ],
 "nbformat": 4,
 "nbformat_minor": 5,
 "metadata": {}
}
